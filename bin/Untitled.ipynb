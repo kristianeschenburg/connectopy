{
 "cells": [
  {
   "cell_type": "code",
   "execution_count": 1,
   "metadata": {},
   "outputs": [],
   "source": [
    "import nibabel as nb"
   ]
  },
  {
   "cell_type": "code",
   "execution_count": 2,
   "metadata": {},
   "outputs": [],
   "source": [
    "raw = nb.load('/Users/kristianeschenburg/Desktop/raw/NSF_RS_Pilot1a_ME_3mm_RevPhase_16_1.PAR')"
   ]
  },
  {
   "cell_type": "code",
   "execution_count": 4,
   "metadata": {},
   "outputs": [],
   "source": [
    "h = raw.header"
   ]
  },
  {
   "cell_type": "code",
   "execution_count": 39,
   "metadata": {},
   "outputs": [
    {
     "data": {
      "text/plain": [
       "{'patient_name': 'NSF_RS_Pilot1a',\n",
       " 'exam_name': '------',\n",
       " 'protocol_name': 'ME_3mm_RevPhase',\n",
       " 'exam_date': '2019.08.08 / 11:00:56',\n",
       " 'series_type': 'Image   MRSERIES',\n",
       " 'acq_nr': 16,\n",
       " 'recon_nr': 1,\n",
       " 'scan_duration': 15.9,\n",
       " 'max_cardiac_phases': 1,\n",
       " 'max_echoes': 3,\n",
       " 'max_slices': 42,\n",
       " 'max_dynamics': 5,\n",
       " 'max_mixes': 1,\n",
       " 'patient_position': 'Head First Supine',\n",
       " 'prep_direction': 'Anterior-Posterior',\n",
       " 'tech': 'FEEPI',\n",
       " 'scan_resolution': array([80, 78]),\n",
       " 'scan_mode': 'MS',\n",
       " 'repetition_time': array([2000.001]),\n",
       " 'fov': array([240., 126., 240.]),\n",
       " 'water_fat_shift': 8.808,\n",
       " 'angulation': array([-0.268,  8.206, -3.88 ]),\n",
       " 'off_center': array([-10.933,  41.004,   3.813]),\n",
       " 'flow_compensation': 0,\n",
       " 'presaturation': 0,\n",
       " 'phase_enc_velocity': array([0., 0., 0.]),\n",
       " 'mtc': 0,\n",
       " 'spir': 1,\n",
       " 'epi_factor': 31,\n",
       " 'dyn_scan': 1,\n",
       " 'diffusion': 0,\n",
       " 'diffusion_echo_time': 0.0,\n",
       " 'max_diffusion_values': 1,\n",
       " 'max_gradient_orient': 1,\n",
       " 'nr_label_types': 0}"
      ]
     },
     "execution_count": 39,
     "metadata": {},
     "output_type": "execute_result"
    }
   ],
   "source": [
    "h.general_info"
   ]
  },
  {
   "cell_type": "code",
   "execution_count": 31,
   "metadata": {},
   "outputs": [],
   "source": [
    "wfs = h.general_info['water_fat_shift']\n",
    "slices = h.general_info['max_slices']\n",
    "epi_factor = h.general_info['epi_factor']"
   ]
  },
  {
   "cell_type": "code",
   "execution_count": 35,
   "metadata": {},
   "outputs": [],
   "source": [
    "def echo_spacing(wfs, epi_factor):\n",
    "    \n",
    "    \"\"\"\n",
    "    Compute the echo spacing of a Philips MRI image.\n",
    "    \n",
    "    Parameters:\n",
    "    - - - - -\n",
    "    wfs: float\n",
    "        water-fat-shift in pixels\n",
    "    epi_factor: float\n",
    "        EPI factor (Philips) (what GE calls \"echo train length\")\n",
    "        Number of echos acquired in a given repetition time (TR).\n",
    "        \n",
    "    Returns:\n",
    "    - - - -\n",
    "    spacing: float\n",
    "        \n",
    "    \"\"\"\n",
    "    \n",
    "    \n",
    "    spacing = (1000*wfs) / (434.215 * (epi_factor+1))\n",
    "    \n",
    "    return spacing\n",
    "\n",
    "def trr(echo_spacing, epi_factor):\n",
    "    \n",
    "    readout = echo_spacing * (epi_factor - 1)\n",
    "    \n",
    "    return readout"
   ]
  },
  {
   "cell_type": "code",
   "execution_count": 36,
   "metadata": {},
   "outputs": [
    {
     "data": {
      "text/plain": [
       "{'patient_name': 'NSF_RS_Pilot1a',\n",
       " 'exam_name': '------',\n",
       " 'protocol_name': 'ME_3mm_RevPhase',\n",
       " 'exam_date': '2019.08.08 / 11:00:56',\n",
       " 'series_type': 'Image   MRSERIES',\n",
       " 'acq_nr': 16,\n",
       " 'recon_nr': 1,\n",
       " 'scan_duration': 15.9,\n",
       " 'max_cardiac_phases': 1,\n",
       " 'max_echoes': 3,\n",
       " 'max_slices': 42,\n",
       " 'max_dynamics': 5,\n",
       " 'max_mixes': 1,\n",
       " 'patient_position': 'Head First Supine',\n",
       " 'prep_direction': 'Anterior-Posterior',\n",
       " 'tech': 'FEEPI',\n",
       " 'scan_resolution': array([80, 78]),\n",
       " 'scan_mode': 'MS',\n",
       " 'repetition_time': array([2000.001]),\n",
       " 'fov': array([240., 126., 240.]),\n",
       " 'water_fat_shift': 8.808,\n",
       " 'angulation': array([-0.268,  8.206, -3.88 ]),\n",
       " 'off_center': array([-10.933,  41.004,   3.813]),\n",
       " 'flow_compensation': 0,\n",
       " 'presaturation': 0,\n",
       " 'phase_enc_velocity': array([0., 0., 0.]),\n",
       " 'mtc': 0,\n",
       " 'spir': 1,\n",
       " 'epi_factor': 31,\n",
       " 'dyn_scan': 1,\n",
       " 'diffusion': 0,\n",
       " 'diffusion_echo_time': 0.0,\n",
       " 'max_diffusion_values': 1,\n",
       " 'max_gradient_orient': 1,\n",
       " 'nr_label_types': 0}"
      ]
     },
     "execution_count": 36,
     "metadata": {},
     "output_type": "execute_result"
    }
   ],
   "source": [
    "h.general_info"
   ]
  }
 ],
 "metadata": {
  "kernelspec": {
   "display_name": "Python 3",
   "language": "python",
   "name": "python3"
  },
  "language_info": {
   "codemirror_mode": {
    "name": "ipython",
    "version": 3
   },
   "file_extension": ".py",
   "mimetype": "text/x-python",
   "name": "python",
   "nbconvert_exporter": "python",
   "pygments_lexer": "ipython3",
   "version": "3.7.2"
  }
 },
 "nbformat": 4,
 "nbformat_minor": 4
}
